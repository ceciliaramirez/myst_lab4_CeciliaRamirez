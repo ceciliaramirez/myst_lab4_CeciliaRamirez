{
 "cells": [
  {
   "cell_type": "markdown",
   "metadata": {},
   "source": [
    "# Laboratorio 4: Análisis Fundamental en Mercado Forex"
   ]
  },
  {
   "cell_type": "markdown",
   "metadata": {},
   "source": [
    "Cargar paquetes. Parámetros para utilizar OANDA"
   ]
  },
  {
   "cell_type": "code",
   "execution_count": null,
   "metadata": {
    "collapsed": true
   },
   "outputs": [],
   "source": [
    "# -- Borrar todos los elementos del environment\n",
    "rm(list=ls())\n",
    "mdir <- getwd()\n",
    "\n",
    "# -- Establecer el sistema de medicion de la computadora\n",
    "Sys.setlocale(category = \"LC_ALL\", locale = \"\")\n",
    "\n",
    "# -- Huso horario\n",
    "Sys.setenv(tz=\"America/Monterrey\", TZ=\"America/Monterrey\")\n",
    "options(tz=\"America/Monterrey\", TZ=\"America/Monterrey\")\n",
    "\n",
    "# -- Cargar y/o instalar en automatico paquetes a utilizar -- #\n",
    "\n",
    "pkg <- c(\"base\",\"downloader\",\"dplyr\",\"fBasics\",\"forecast\",\"grid\",\n",
    "         \"gridExtra\",\"httr\",\"jsonlite\",\"lmtest\",\"lubridate\",\"moments\",\n",
    "         \"matrixStats\", \"PerformanceAnalytics\",\"plyr\",\"quantmod\",\n",
    "         \"reshape2\",\"RCurl\", \"stats\",\"scales\",\"tseries\",\n",
    "         \"TTR\",\"TSA\",\"XML\",\"xts\",\"zoo\")\n",
    "\n",
    "inst <- pkg %in% installed.packages()\n",
    "if(length(pkg[!inst]) > 0) install.packages(pkg[!inst])\n",
    "instpackages <- lapply(pkg, library, character.only=TRUE)\n",
    "\n",
    "# -- Cargar archivos desde GitHub -- #\n",
    "\n",
    "RawGitHub <- \"https://raw.githubusercontent.com/IFFranciscoME/\"\n",
    "ROandaAPI <- paste(RawGitHub,\"ROandaAPI/master/ROandaAPI.R\",sep=\"\")\n",
    "downloader::source_url(ROandaAPI,prompt=FALSE,quiet=TRUE)\n",
    "\n",
    "# -- Parametros para usar API-OANDA\n",
    "\n",
    "# Tipo de cuenta practice/live\n",
    "OA_At <- \"practice\"\n",
    "# ID de cuenta\n",
    "OA_Ai <- 1742531\n",
    "# Token para llamadas a API\n",
    "OA_Ak <- \"ada4a61b0d5bc0e5939365e01450b614-4121f84f01ad78942c46fc3ac777baa6\" \n",
    "# Hora a la que se considera \"Fin del dia\"\n",
    "OA_Da <- 17\n",
    "# Uso horario\n",
    "OA_Ta <- \"America/Mexico_City\"\n",
    "# Instrumento\n",
    "OA_In <- \"EUR_USD\"\n",
    "# Granularidad o periodicidad de los precios H4 = Cada 4 horas\n",
    "# S5, S10, S30, M1, M5, M15, M30, H1, H4, H8, D, M\n",
    "OA_Pr <- \"M1\"\n",
    "# Multiplicador de precios para convertir a PIPS\n",
    "MultPip_MT1 <- 10000\n"
   ]
  },
  {
   "cell_type": "markdown",
   "metadata": {},
   "source": [
    "Indicador: Unemployment Rate\n",
    "\n",
    "Publicado por el US Department of Labor, es un porcentaje que surge al dividir el número de trabajadores desempleados por la fuerza laboral civil total. Representa el porcentaje de personas que buscan empleo activamente y están dispuestas a trabajar. Una disminución de la cifra se considera positiva (o alcista) para el USD, mientras que un aumento se considera negativo (o bajista), aunque por sí solo, el número no puede determinar el movimiento de los mercados."
   ]
  },
  {
   "cell_type": "markdown",
   "metadata": {},
   "source": [
    "Cargar datos del indicador económico elegido y crear data frame."
   ]
  },
  {
   "cell_type": "code",
   "execution_count": null,
   "metadata": {
    "collapsed": true
   },
   "outputs": [],
   "source": [
    "suppressMessages(library(openxlsx))\n",
    "Unemployment_Rate<- read.csv(\"history.csv\")\n",
    "\n",
    "\n",
    "Unemployment_Rate[,1] <- as.POSIXct(as.character(Unemployment_Rate[,1]),\n",
    "                                    format = \"%m/%d/%Y %H:%M\",\n",
    "                                    origin = \"America/Guadalajara\")\n",
    "\n",
    "UR <- data.frame(\"Date\"= Unemployment_Rate[,1],\n",
    "                 \"Actual\"= Unemployment_Rate[,2],\n",
    "                 \"Consensus\"= Unemployment_Rate[,3],\n",
    "                 \"Previous\"= Unemployment_Rate[,4],\n",
    "                 \"Clasificacion\" = 0)"
   ]
  },
  {
   "cell_type": "markdown",
   "metadata": {},
   "source": [
    "Clasificar las observaciones de los comunicados según el siguiente criteritio:\n",
    "    + A Actual >= Consensus >= Previous\n",
    "    + B Actual >= Consensus < Previous\n",
    "    + C Actual < Consensus >= Previous\n",
    "    + D Actual < Consensus < Previous\n"
   ]
  },
  {
   "cell_type": "code",
   "execution_count": null,
   "metadata": {
    "collapsed": true
   },
   "outputs": [],
   "source": [
    "#Clasificacion de observaciones\n",
    "for(i in 1:length(UR$Date)){\n",
    "  \n",
    "  if(UR$Actual[i]>=UR$Consensus[i] & UR$Consensus[i]>=UR$Previous[i])\n",
    "  {UR$Clasificacion[i] <-\"A\"}\n",
    "  \n",
    "  if(UR$Actual[i]>=UR$Consensus[i] & UR$Consensus[i]<UR$Previous[i])\n",
    "  {UR$Clasificacion[i] <-\"B\"}\n",
    "  \n",
    "  if(UR$Actual[i]<UR$Consensus[i] & UR$Consensus[i]>=UR$Previous[i])\n",
    "  {UR$Clasificacion[i] <-\"C\"}\n",
    "  \n",
    "  if(UR$Actual[i]<UR$Consensus[i] & UR$Consensus[i]<UR$Previous[i])\n",
    "  {UR$Clasificacion[i] <-\"D\"}\n",
    "  \n",
    "  \n",
    "}"
   ]
  },
  {
   "cell_type": "markdown",
   "metadata": {},
   "source": [
    "+ Descargar precios, en intervalos de 1min, de los 15 min antes y 15 min despues de cada ocasión en la que se hizo el comunicado del indicador económico. \n",
    "\n",
    "+ Calcular 3 métricas para cada vez que sucede cada uno de los escenarios."
   ]
  },
  {
   "cell_type": "code",
   "execution_count": null,
   "metadata": {
    "collapsed": true
   },
   "outputs": [],
   "source": [
    "Datos <- list()\n",
    "\n",
    "\n",
    "for (i in 1:36){\n",
    "  \n",
    "  Fecha_Ejemplo <- UR$Date[[i]]\n",
    "  aux <- UR$Clasificacion[[i]]\n",
    "  \n",
    "  \n",
    "# Opcion 2 para convertir a \"YYYY-MM-DD\"\n",
    "F2 <- as.Date(substr(Fecha_Ejemplo,1,10))\n",
    "  \n",
    "  \n",
    "  if(wday(F2) != 1) \n",
    "  {\n",
    "    \n",
    "    Fecha1 <- F2\n",
    "    Fecha2 <- F2+1\n",
    "    Precios_Oanda <- HisPrices(AccountType = OA_At, Granularity = OA_Pr,\n",
    "                               DayAlign = OA_Da, TimeAlign = OA_Ta, Token = OA_Ak,\n",
    "                               Instrument = OA_In, \n",
    "                               Start = Fecha1, End = Fecha2, Count = NULL)\n",
    "  } else {\n",
    "    \n",
    "    Fecha1 <- F2-2\n",
    "    Fecha2 <- F2+1\n",
    "    Precios_Oanda <- HisPrices(AccountType = OA_At, Granularity = OA_Pr,\n",
    "                               DayAlign = OA_Da, TimeAlign = OA_Ta, Token = OA_Ak,\n",
    "                               Instrument = OA_In, \n",
    "                               Start = Fecha1, End = Fecha2, Count = NULL)\n",
    "  }\n",
    "  \n",
    "  Precios_Oanda$TimeStamp <- as.character(as.POSIXct(Precios_Oanda$TimeStamp,format = \"%m/%d/%Y %H:%M:%S\"))\n",
    "  \n",
    "  \n",
    "  ind <- which(Precios_Oanda$TimeStamp == UR$Date[[i]])\n",
    "  \n",
    "  \n",
    "  \n",
    "  Datos[[i]] <- list(\"Clasificacion\" = UR$Clasificacion[i],\"Precios\" = Precios_Oanda[(ind-15):(ind+15),])\n",
    "  \n",
    "  \n",
    "  Calculos$Rend[[i]]<-Datos[,list(mean = mean(Datos[[i]]$Precios$Close)), by = Datos$Clasificacion]\n",
    "  \n",
    "  Calculos$Desv_s[[i]]<-Datos[,list(desv = stdev(Datos[[i]]$Precios$Close)), by = Datos$Clasificacion]\n",
    "  Calculos$Dif[[i]]<-Datos[,list(dif= Datos$Precios$Close[[1]] - Datos$Precios$Close[[31]]), by = Datos$Clasificacion]\n",
    "  Calculos$max[[i]]<-Datos[,list(max = max(Datos$Precios$Close)-min(Datos$Precios$Close)),by = Datos$Clasificacion] \n",
    "  \n",
    "  \n",
    "}\n"
   ]
  },
  {
   "cell_type": "code",
   "execution_count": null,
   "metadata": {
    "collapsed": true
   },
   "outputs": [],
   "source": []
  }
 ],
 "metadata": {
  "kernelspec": {
   "display_name": "Python 3",
   "language": "python",
   "name": "python3"
  },
  "language_info": {
   "codemirror_mode": {
    "name": "ipython",
    "version": 3
   },
   "file_extension": ".py",
   "mimetype": "text/x-python",
   "name": "python",
   "nbconvert_exporter": "python",
   "pygments_lexer": "ipython3",
   "version": "3.5.4"
  }
 },
 "nbformat": 4,
 "nbformat_minor": 2
}
